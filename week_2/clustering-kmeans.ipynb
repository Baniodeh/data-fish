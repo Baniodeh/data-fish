{
 "cells": [
  {
   "cell_type": "code",
   "execution_count": 1,
   "metadata": {},
   "outputs": [],
   "source": [
    "import numpy as np\n",
    "import pandas as pd\n",
    "\n",
    "import matplotlib.pyplot as plt\n",
    "\n",
    "from sklearn.cluster import KMeans"
   ]
  },
  {
   "cell_type": "markdown",
   "metadata": {},
   "source": [
    "# Clustering"
   ]
  },
  {
   "cell_type": "markdown",
   "metadata": {},
   "source": [
    "Unter Clustering versteht man das zusammenfassen von Instanzen/Einheiten aufgrund von Ähnlichkeiten. Clustering Algorithmen gehören zu den  **unüberwachten Lernverfahren (unsupervised machine learning)**. Ziel dieser Methoden ist es selbständig Ähnlichkeiten in Datenpunkten zu erkennen und ähnliche Datenpunkte in Gruppen zusammenzufassen. \n",
    "\n",
    "Mehr Informationen zum Thema:\n",
    "\n",
    "https://en.wikipedia.org/wiki/Cluster_analysis\n",
    "\n",
    "und im spezielleren zu K-Means einem Cluster-Algorithmus:\n",
    "\n",
    "https://en.wikipedia.org/wiki/K-means_clustering\n",
    "\n",
    "und als Video:\n",
    "\n",
    "https://www.youtube.com/watch?v=4b5d3muPQmA\n",
    "\n",
    "\n",
    "Zuletzt haben wir gesehen, dass Ähnlichkeiten mit Hilfe von Abständen gemessen werden können. Dazu werden die Attribute der Instanzen ('gender', 'age, ...) als Dimensionen eines Datenpunktes in einem Hochdimensionalen Raum verstanden. Jede Dimension des Raumes beschreibt die Ausprägung einer bestimmten Eigenschaft (z.B. gender == female)."
   ]
  },
  {
   "cell_type": "markdown",
   "metadata": {},
   "source": [
    "## K-Means "
   ]
  },
  {
   "cell_type": "markdown",
   "metadata": {},
   "source": [
    "K-Means ausgeführt und visualisiert anhand von Beispieldaten Punktwolken."
   ]
  },
  {
   "cell_type": "markdown",
   "metadata": {},
   "source": [
    "### Die Beispieldaten"
   ]
  },
  {
   "cell_type": "code",
   "execution_count": 2,
   "metadata": {},
   "outputs": [
    {
     "data": {
      "text/html": [
       "<div>\n",
       "<style scoped>\n",
       "    .dataframe tbody tr th:only-of-type {\n",
       "        vertical-align: middle;\n",
       "    }\n",
       "\n",
       "    .dataframe tbody tr th {\n",
       "        vertical-align: top;\n",
       "    }\n",
       "\n",
       "    .dataframe thead th {\n",
       "        text-align: right;\n",
       "    }\n",
       "</style>\n",
       "<table border=\"1\" class=\"dataframe\">\n",
       "  <thead>\n",
       "    <tr style=\"text-align: right;\">\n",
       "      <th></th>\n",
       "      <th>x</th>\n",
       "      <th>y</th>\n",
       "    </tr>\n",
       "  </thead>\n",
       "  <tbody>\n",
       "    <tr>\n",
       "      <th>0</th>\n",
       "      <td>-0.145618</td>\n",
       "      <td>0.470642</td>\n",
       "    </tr>\n",
       "    <tr>\n",
       "      <th>1</th>\n",
       "      <td>0.833428</td>\n",
       "      <td>1.252109</td>\n",
       "    </tr>\n",
       "    <tr>\n",
       "      <th>2</th>\n",
       "      <td>-0.051902</td>\n",
       "      <td>-0.729297</td>\n",
       "    </tr>\n",
       "    <tr>\n",
       "      <th>3</th>\n",
       "      <td>0.162805</td>\n",
       "      <td>1.682158</td>\n",
       "    </tr>\n",
       "    <tr>\n",
       "      <th>4</th>\n",
       "      <td>-0.213022</td>\n",
       "      <td>0.595615</td>\n",
       "    </tr>\n",
       "  </tbody>\n",
       "</table>\n",
       "</div>"
      ],
      "text/plain": [
       "          x         y\n",
       "0 -0.145618  0.470642\n",
       "1  0.833428  1.252109\n",
       "2 -0.051902 -0.729297\n",
       "3  0.162805  1.682158\n",
       "4 -0.213022  0.595615"
      ]
     },
     "execution_count": 2,
     "metadata": {},
     "output_type": "execute_result"
    }
   ],
   "source": [
    "# Erstelle ein Punktwolke mittels der Normalverteilung\n",
    "x_werte = np.random.normal(0,1,1000)\n",
    "y_werte = np.random.normal(0,1,1000)\n",
    "\n",
    "# Erstelle eine zweite Punktwolke mittels der Normalverteilung\n",
    "x_werte_2 = np.random.normal(10,0.2,1000)\n",
    "y_werte_2 = np.random.normal(10,0.2,1000)\n",
    "\n",
    "# Setze die zwei Punktworlken zu einem Datensatz zusammen\n",
    "data_x = np.concatenate([x_werte, x_werte_2])\n",
    "data_y = np.concatenate([y_werte, y_werte_2])\n",
    "\n",
    "dataset = pd.DataFrame()\n",
    "\n",
    "dataset['x'] = data_x\n",
    "dataset['y'] = data_y\n",
    "\n",
    "dataset.head()"
   ]
  },
  {
   "cell_type": "markdown",
   "metadata": {},
   "source": [
    "---"
   ]
  },
  {
   "cell_type": "markdown",
   "metadata": {},
   "source": [
    "### Das Clustern"
   ]
  },
  {
   "cell_type": "markdown",
   "metadata": {},
   "source": [
    "Mit Hilfe von sklearn ist das Clustern nicht viel mehr als ein paar Funktionsaufrufe:\n",
    "1. Wir instanziieren ein KMeans-Objekt und initialisieren es mit der Anzahl der Cluster\n",
    "2. Wir \"trainieren\" KMeans mit unseren Daten\n",
    "3. Wir \"predicten\" dieselben Daten mit dem \"trainierten\" KMeans und speichern die Cluster-Zuordnung in einer neuen Spalte \"cluster_nr_kmeans\""
   ]
  },
  {
   "cell_type": "code",
   "execution_count": 3,
   "metadata": {},
   "outputs": [],
   "source": [
    "# object Instanziierung\n",
    "kmeans = KMeans(n_clusters=2)#\n",
    "# Training\n",
    "kmeans.fit(dataset)\n",
    "# Vorhersage\n",
    "dataset['cluster_nr_kmeans'] = kmeans.predict(dataset)"
   ]
  },
  {
   "cell_type": "markdown",
   "metadata": {},
   "source": [
    "Die Aufteilung in Training und Vorhersage ist nicht unbedingt notwendig, wird aber von sklearn so umgesetzt, um mit den anderen Machine Learning Methoden konform zu sein. Ergo, egal welches Verfahren, wir rufen immer fit() und dann predict() auf."
   ]
  },
  {
   "cell_type": "code",
   "execution_count": 4,
   "metadata": {},
   "outputs": [
    {
     "data": {
      "image/png": "[encoded data removed]",
      "text/plain": [
       "<Figure size 432x432 with 1 Axes>"
      ]
     },
     "metadata": {},
     "output_type": "display_data"
    }
   ],
   "source": [
    "# plotte ich diesen Datensatz mit 'scatter'\n",
    "plt.figure(1, figsize=(6, 6))\n",
    "plt.scatter(data_x, data_y, c=dataset['cluster_nr_kmeans'])\n",
    "plt.show();"
   ]
  },
  {
   "cell_type": "markdown",
   "metadata": {},
   "source": [
    "**Aufgaben:**\n",
    "- Erstelle zusätzliche Punktewolken\n",
    "- Visualisiere das"
   ]
  }
 ],
 "metadata": {
  "kernelspec": {
   "display_name": "Python 3",
   "language": "python",
   "name": "python3"
  },
  "language_info": {
   "codemirror_mode": {
    "name": "ipython",
    "version": 3
   },
   "file_extension": ".py",
   "mimetype": "text/x-python",
   "name": "python",
   "nbconvert_exporter": "python",
   "pygments_lexer": "ipython3",
   "version": "3.6.5"
  }
 },
 "nbformat": 4,
 "nbformat_minor": 2
}
