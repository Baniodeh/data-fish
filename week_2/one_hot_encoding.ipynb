{
 "cells": [
  {
   "cell_type": "code",
   "execution_count": null,
   "metadata": {},
   "outputs": [],
   "source": [
    "import math\n",
    "import numpy as np\n",
    "import pandas as pd"
   ]
  },
  {
   "cell_type": "markdown",
   "metadata": {},
   "source": [
    "# Mathematik und Anwendung"
   ]
  },
  {
   "cell_type": "markdown",
   "metadata": {},
   "source": [
    "OK, in bestimmten mathematischen \"Räumen\" haben wir einen Abstand. Der \"Raum\" gibt unter anderem die Dimension vor. Was machen wir damit aber nun in der Anwendung?!\n",
    "\n",
    "Wenn wir uns unsere Daten anschauen:"
   ]
  },
  {
   "cell_type": "code",
   "execution_count": null,
   "metadata": {},
   "outputs": [],
   "source": [
    "file_name = '../data/bank_transactions.csv'\n",
    "data = pd.read_csv(file_name) \n",
    "data.head()"
   ]
  },
  {
   "cell_type": "markdown",
   "metadata": {},
   "source": [
    "Was ich ja machen will ist die Unterschiede zwischen einzelnen Zeilen erkennen, oder anders, Muster zwischen den Zeilen erkennen. Wie aber messe ich mathematisch den Abstand zwischen zwei Zeilen im Bezug auf das Geschlecht?!"
   ]
  },
  {
   "cell_type": "markdown",
   "metadata": {},
   "source": [
    "**Antwort: Wir kodieren die Kategorien in verschiedenen Dimensionen!**"
   ]
  },
  {
   "cell_type": "markdown",
   "metadata": {},
   "source": [
    "# One Hot Encoding"
   ]
  },
  {
   "cell_type": "code",
   "execution_count": null,
   "metadata": {},
   "outputs": [],
   "source": [
    "categorical = pd.get_dummies(data[['age', 'gender', 'category']])\n",
    "data_one_hot = pd.concat([data, categorical], axis=1, sort=False)"
   ]
  },
  {
   "cell_type": "code",
   "execution_count": null,
   "metadata": {},
   "outputs": [],
   "source": [
    "# Überblick über die Spalten:\n",
    "# data_one_hot.columns"
   ]
  },
  {
   "cell_type": "code",
   "execution_count": null,
   "metadata": {},
   "outputs": [],
   "source": [
    "data_one_hot.head(12)"
   ]
  },
  {
   "cell_type": "markdown",
   "metadata": {},
   "source": [
    "---"
   ]
  },
  {
   "cell_type": "markdown",
   "metadata": {},
   "source": [
    "## Der Abstand"
   ]
  },
  {
   "cell_type": "code",
   "execution_count": null,
   "metadata": {},
   "outputs": [],
   "source": [
    "# die funktion erwartet zwei numpy arrays der gleichen Länge\n",
    "def euklid_d(x,y):\n",
    "    d = (x-y) # elementweise differenz\n",
    "    d = d**2 # elementweise quadrat d^2\n",
    "    d = d.sum() #die summe aller einträge in d\n",
    "    return math.sqrt(d) # die Wurzel aus diesem Wert ist der euklidische Abstand"
   ]
  },
  {
   "cell_type": "code",
   "execution_count": null,
   "metadata": {},
   "outputs": [],
   "source": [
    "one_hot_columns = ['age_0','age_1','age_2','age_3','age_4','age_5','age_6','age_U','gender_E','gender_F','gender_M','gender_U','category_es_barsandrestaurants','category_es_contents','category_es_fashion','category_es_food','category_es_health','category_es_home','category_es_hotelservices','category_es_hyper','category_es_leisure','category_es_otherservices','category_es_sportsandtoys','category_es_tech','category_es_transportation','category_es_travel','category_es_wellnessandbeauty']"
   ]
  },
  {
   "cell_type": "code",
   "execution_count": null,
   "metadata": {},
   "outputs": [],
   "source": [
    "data_one_hot.loc[0:2,one_hot_columns]"
   ]
  },
  {
   "cell_type": "code",
   "execution_count": null,
   "metadata": {},
   "outputs": [],
   "source": [
    "x = data_one_hot.loc[0, one_hot_columns].values.astype('int') # cast values to int as get_dummies uses unsigned int (Werte ohne Vorzeichen)\n",
    "y = data_one_hot.loc[2, one_hot_columns].values.astype('int')"
   ]
  },
  {
   "cell_type": "code",
   "execution_count": null,
   "metadata": {},
   "outputs": [],
   "source": [
    "euklid_d(x,y)"
   ]
  },
  {
   "cell_type": "markdown",
   "metadata": {},
   "source": [
    "**MEGA!**"
   ]
  },
  {
   "cell_type": "markdown",
   "metadata": {},
   "source": [
    "**Wir können Ähnlichkeiten zwischen Zeilen berechnen!**"
   ]
  },
  {
   "cell_type": "markdown",
   "metadata": {},
   "source": [
    "---"
   ]
  },
  {
   "cell_type": "markdown",
   "metadata": {},
   "source": [
    "In welchem Datenformat die Werte abgespeichert sind kann man mit .info() auf einem DataFrame herausfinden"
   ]
  },
  {
   "cell_type": "code",
   "execution_count": null,
   "metadata": {},
   "outputs": [],
   "source": [
    "data_one_hot.info()"
   ]
  },
  {
   "cell_type": "code",
   "execution_count": null,
   "metadata": {},
   "outputs": [],
   "source": []
  }
 ],
 "metadata": {
  "kernelspec": {
   "display_name": "Python 3",
   "language": "python",
   "name": "python3"
  },
  "language_info": {
   "codemirror_mode": {
    "name": "ipython",
    "version": 3
   },
   "file_extension": ".py",
   "mimetype": "text/x-python",
   "name": "python",
   "nbconvert_exporter": "python",
   "pygments_lexer": "ipython3",
   "version": "3.6.8"
  }
 },
 "nbformat": 4,
 "nbformat_minor": 2
}
