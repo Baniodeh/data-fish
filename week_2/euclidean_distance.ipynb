{
 "cells": [
  {
   "cell_type": "code",
   "execution_count": null,
   "metadata": {},
   "outputs": [],
   "source": [
    "import math\n",
    "import numpy as np\n",
    "import pandas as pd"
   ]
  },
  {
   "cell_type": "markdown",
   "metadata": {},
   "source": [
    "# Automatisierung"
   ]
  },
  {
   "cell_type": "markdown",
   "metadata": {},
   "source": [
    "Für die automatisierte Mustererkennung wollen wir uns in den nächsten Wochen an Verfahren aus der 'Angewandten Mathematik' bedienen. Für die Musterekennung ist es nötig, dass wir Ähnlichkeiten und Unterschiede erkennen können!\n",
    "\n",
    "**Was bedeutet das mathematisch?**"
   ]
  },
  {
   "cell_type": "markdown",
   "metadata": {},
   "source": [
    "---"
   ]
  },
  {
   "cell_type": "markdown",
   "metadata": {},
   "source": [
    "## Abstand"
   ]
  },
  {
   "cell_type": "markdown",
   "metadata": {},
   "source": [
    "Eine Möglichkeit Ähnlichkeiten mathematisch auszudrücken ist der Abstand. Zwei Datenpunkte sind sich ähnlich, wenn sie nah beieinander liegen, verschieden, wenn sie weiter auseinander liegen."
   ]
  },
  {
   "cell_type": "markdown",
   "metadata": {},
   "source": [
    "Für einen Abstand muss mathematisch gelten:\n",
    "- $d(x,y) \\geq 0$ und wenn  $d(x,y) = 0$ gilt $x=y$ und umgekehrt (Positive Definitheit)\n",
    "- $d(x,y) = d(y,x)$ (Symmetrie)\n",
    "- $d(x,y) \\leq d(x,z) + d(z,y)$ (Dreiecksungleichung)"
   ]
  },
  {
   "cell_type": "markdown",
   "metadata": {},
   "source": [
    "Im Eindimensionalen kann man einen Abstand mit der Betragsfunktion definieren:\n",
    "\n",
    "$$ d(x,y) = \\left|x-y\\right| $$"
   ]
  },
  {
   "cell_type": "code",
   "execution_count": null,
   "metadata": {},
   "outputs": [],
   "source": [
    "def d(x,y):\n",
    "    return abs(x - y)"
   ]
  },
  {
   "cell_type": "code",
   "execution_count": null,
   "metadata": {},
   "outputs": [],
   "source": [
    "d(10,10) == 0"
   ]
  },
  {
   "cell_type": "code",
   "execution_count": null,
   "metadata": {},
   "outputs": [],
   "source": [
    "d(10,3) == d(3,10)"
   ]
  },
  {
   "cell_type": "code",
   "execution_count": null,
   "metadata": {},
   "outputs": [],
   "source": [
    "d(3,10) <= d(3,12) + d(12,10)"
   ]
  },
  {
   "cell_type": "markdown",
   "metadata": {},
   "source": [
    "Das schöne an der Mathematik ist, dass es so einen Abstand nicht nur im Eindimensionalen gibt. Der euklidische Abstand ist für unendlich viele Dimensionen definiert!"
   ]
  },
  {
   "cell_type": "markdown",
   "metadata": {},
   "source": [
    "https://de.wikipedia.org/wiki/Euklidischer_Abstand"
   ]
  },
  {
   "cell_type": "code",
   "execution_count": null,
   "metadata": {},
   "outputs": [],
   "source": [
    "# die funktion erwartet zwei numpy arrays der gleichen Länge\n",
    "def euklid_d(x,y):\n",
    "    d = (x-y) # elementweise differenz\n",
    "    d = d**2 # elementweise quadrat d^2\n",
    "    d = d.sum() #die summe aller einträge in d\n",
    "    return math.sqrt(d) # die Wurzel aus diesem Wert ist der euklidische Abstand"
   ]
  },
  {
   "cell_type": "code",
   "execution_count": null,
   "metadata": {},
   "outputs": [],
   "source": [
    "# Im 2-Dimensionalen\n",
    "x = np.array([1,1])\n",
    "y = np.array([1,2])\n",
    "euklid_d(x,y)"
   ]
  },
  {
   "cell_type": "code",
   "execution_count": null,
   "metadata": {},
   "outputs": [],
   "source": [
    "# Im 7-Dimensionalen\n",
    "x = np.array([1,1,1,1,1,1,1])\n",
    "y = np.array([1,2,1,1,1,3,1])\n",
    "euklid_d(x,y)"
   ]
  },
  {
   "cell_type": "code",
   "execution_count": null,
   "metadata": {},
   "outputs": [],
   "source": [
    "# Zwischen verschiedenen Dimensionen?!\n",
    "x = np.array([1,1,1,1,1,1])\n",
    "y = np.array([1,2,1,1,1,3,1])\n",
    "euklid_d(x,y)"
   ]
  },
  {
   "cell_type": "markdown",
   "metadata": {},
   "source": [
    "**Funktioniert natürlich nicht zwischen verschiednene Dimensionen!**"
   ]
  },
  {
   "cell_type": "markdown",
   "metadata": {},
   "source": [
    "OK, in bestimmten mathematischen \"Räumen\" haben wir einen Abstand. Der \"Raum\" gibt unter anderem die Dimension vor. Was machen wir damit aber nun in der Anwendung?!\n",
    "\n",
    "Wenn wir uns unsere Daten anschauen:"
   ]
  },
  {
   "cell_type": "code",
   "execution_count": null,
   "metadata": {},
   "outputs": [],
   "source": [
    "file_name = '../data/bank_transactions.csv'\n",
    "data = pd.read_csv(file_name) \n",
    "data.head()"
   ]
  },
  {
   "cell_type": "markdown",
   "metadata": {},
   "source": [
    "Was ich ja machen will ist die Unterschiede zwischen einzelnen Zeilen erkennen, oder anders, Muster zwischen den Zeilen erkennen. Wie aber messe ich mathematisch den Abstand zwischen zwei Zeilen im Bezug auf das Geschlecht?!"
   ]
  }
 ],
 "metadata": {
  "kernelspec": {
   "display_name": "Python 3",
   "language": "python",
   "name": "python3"
  },
  "language_info": {
   "codemirror_mode": {
    "name": "ipython",
    "version": 3
   },
   "file_extension": ".py",
   "mimetype": "text/x-python",
   "name": "python",
   "nbconvert_exporter": "python",
   "pygments_lexer": "ipython3",
   "version": "3.6.8"
  }
 },
 "nbformat": 4,
 "nbformat_minor": 2
}
