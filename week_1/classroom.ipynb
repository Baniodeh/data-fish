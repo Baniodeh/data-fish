{
 "cells": [
  {
   "cell_type": "markdown",
   "metadata": {},
   "source": [
    "# Hart Aber Zufällig: Die Sitzordnung"
   ]
  },
  {
   "cell_type": "code",
   "execution_count": 1,
   "metadata": {},
   "outputs": [],
   "source": [
    "# import der shuffle Funktion für zufällige Umsortierung von Listen\n",
    "import random\n",
    "from random import shuffle"
   ]
  },
  {
   "cell_type": "markdown",
   "metadata": {},
   "source": [
    "### Die Klassen Klasse "
   ]
  },
  {
   "cell_type": "code",
   "execution_count": 2,
   "metadata": {},
   "outputs": [],
   "source": [
    "class Classroom():\n",
    "\n",
    "    # Klassenvariablen\n",
    "    classroom_count = 0\n",
    "    \n",
    "    # Konstruktor\n",
    "    def __init__(self, name):\n",
    "        self.name = name\n",
    "        self.class_list = []\n",
    "        self.presence_list = []\n",
    "        self.classroom_count += 1\n",
    "    \n",
    "    # Klassenmethoden        \n",
    "    def add_class_member(self, name):\n",
    "        \"\"\" Fügt die Teilnehmer des Bootcamps hinzu. \"\"\"\n",
    "        self.class_list.append(name)\n",
    "    \n",
    "    def get_class_list(self):\n",
    "        \"\"\" Gibt die Klassenliste aus. \"\"\"\n",
    "        print(set(self.class_list))\n",
    "     \n",
    "    def add_presence(self, name, present):\n",
    "        \"\"\" Erfasst alle heute anwesenden Teilnehmer in einer Anwesenheitsliste. \"\"\"\n",
    "        if present == 1:\n",
    "            self.presence_list.append(name)\n",
    "    \n",
    "    def get_presence(self):\n",
    "        \"\"\" Gibt die Anwesenheitsliste aus. \"\"\"\n",
    "        print(self.presence_list)\n",
    "        \n",
    "    def seating(self):\n",
    "        \"\"\" Gibt eine zufällige Sitzordnung aus. \"\"\"\n",
    "        seating_today = self.presence_list[:] # Kopie erstellen\n",
    "        shuffle(seating_today)                # Kopie mischen\n",
    "        print(seating_today)\n",
    "        \n",
    "    def groups(self, amount):\n",
    "        \"\"\" Gibt Gruppen aus. \"\"\"\n",
    "        presence_today = self.presence_list[:]\n",
    "        shuffle(presence_today)\n",
    "        group_list = [-1] * amount\n",
    "        idx = 0\n",
    "        for student in presence_today:\n",
    "            if group_list[idx] == -1:\n",
    "                group_list[idx] = []\n",
    "            group_list[idx].append(student)\n",
    "            if idx < amount - 1:\n",
    "                idx += 1\n",
    "            else:\n",
    "                idx = 0\n",
    "        return group_list\n",
    "    \n",
    "    def pick_random(self):\n",
    "        return random.choice(self.presence_list)"
   ]
  },
  {
   "cell_type": "markdown",
   "metadata": {},
   "source": [
    "----"
   ]
  },
  {
   "cell_type": "markdown",
   "metadata": {},
   "source": [
    "### Erstellen einer Bootcamp-Klasse"
   ]
  },
  {
   "cell_type": "code",
   "execution_count": 3,
   "metadata": {},
   "outputs": [],
   "source": [
    "# Erstellen einer neuen Instanz der Klasse\n",
    "\n",
    "ds_classroom = Classroom(\"Data-Science\")"
   ]
  },
  {
   "cell_type": "code",
   "execution_count": 4,
   "metadata": {},
   "outputs": [],
   "source": [
    "# Ein etwas komplizierter Weg die Teilnehmer hinzuzufügen\n",
    "\n",
    "ds_classroom.add_class_member(\"Amer\")\n",
    "ds_classroom.add_class_member(\"Alex\")\n",
    "ds_classroom.add_class_member(\"Kiran\")\n",
    "ds_classroom.add_class_member(\"Larissa\")\n",
    "ds_classroom.add_class_member(\"MartinH\")\n",
    "ds_classroom.add_class_member(\"Eva\")\n",
    "ds_classroom.add_class_member(\"Christine\")\n",
    "ds_classroom.add_class_member(\"Christian\")\n",
    "ds_classroom.add_class_member(\"Torben\")\n",
    "ds_classroom.add_class_member(\"Rafael\")\n",
    "ds_classroom.add_class_member(\"Felix\")\n",
    "ds_classroom.add_class_member(\"Marc\")\n",
    "ds_classroom.add_class_member(\"Miguel\")\n",
    "ds_classroom.add_class_member(\"Tina\")\n",
    "ds_classroom.add_class_member(\"Thilo\")\n",
    "ds_classroom.add_class_member(\"Tim\")\n",
    "ds_classroom.add_class_member(\"Martin\")"
   ]
  },
  {
   "cell_type": "code",
   "execution_count": 5,
   "metadata": {},
   "outputs": [
    {
     "name": "stdout",
     "output_type": "stream",
     "text": [
      "{'Larissa', 'Tim', 'Christine', 'Rafael', 'Thilo', 'MartinH', 'Torben', 'Miguel', 'Amer', 'Felix', 'Marc', 'Kiran', 'Eva', 'Christian', 'Tina', 'Martin', 'Alex'}\n"
     ]
    }
   ],
   "source": [
    "# Hat alles geklappt?\n",
    "ds_classroom.get_class_list()"
   ]
  },
  {
   "cell_type": "code",
   "execution_count": 6,
   "metadata": {
    "scrolled": true
   },
   "outputs": [],
   "source": [
    "# Anwesende Schüler markieren (wieder etwas kompliziert):\n",
    "\n",
    "ds_classroom.add_presence(\"Amer\", present=1)\n",
    "ds_classroom.add_presence(\"Alex\", present=1)\n",
    "ds_classroom.add_presence(\"Kiran\", present=1)\n",
    "ds_classroom.add_presence(\"Larissa\", present=1)\n",
    "ds_classroom.add_presence(\"MartinH\", present=1)\n",
    "ds_classroom.add_presence(\"Eva\", present=1)\n",
    "ds_classroom.add_presence(\"Christine\", present=1)\n",
    "ds_classroom.add_presence(\"Christian\", present=1)\n",
    "ds_classroom.add_presence(\"Torben\", present=1)\n",
    "ds_classroom.add_presence(\"Rafael\", present=1)\n",
    "ds_classroom.add_presence(\"Felix\", present=1)\n",
    "ds_classroom.add_presence(\"Marc\", present=1)\n",
    "ds_classroom.add_presence(\"Miguel\", present=1)\n",
    "ds_classroom.add_presence(\"Tina\", present=1)\n",
    "ds_classroom.add_presence(\"Thilo\", present=1)\n",
    "ds_classroom.add_presence(\"Tim\", present=1)\n",
    "ds_classroom.add_presence(\"Martin\", present=1)"
   ]
  },
  {
   "cell_type": "code",
   "execution_count": 7,
   "metadata": {
    "scrolled": true
   },
   "outputs": [
    {
     "name": "stdout",
     "output_type": "stream",
     "text": [
      "['Amer', 'Alex', 'Kiran', 'Larissa', 'MartinH', 'Eva', 'Christine', 'Christian', 'Torben', 'Rafael', 'Felix', 'Marc', 'Miguel', 'Tina', 'Thilo', 'Tim', 'Martin']\n"
     ]
    }
   ],
   "source": [
    "# Hat alles geklappt?\n",
    "\n",
    "ds_classroom.get_presence()"
   ]
  },
  {
   "cell_type": "markdown",
   "metadata": {},
   "source": [
    "-----"
   ]
  },
  {
   "cell_type": "markdown",
   "metadata": {},
   "source": [
    "### Wer Sitzt Wo?"
   ]
  },
  {
   "cell_type": "code",
   "execution_count": 8,
   "metadata": {
    "scrolled": true
   },
   "outputs": [
    {
     "name": "stdout",
     "output_type": "stream",
     "text": [
      "['Tim', 'Martin', 'Christian', 'Miguel', 'Rafael', 'Marc', 'Torben', 'MartinH', 'Alex', 'Eva', 'Felix', 'Larissa', 'Tina', 'Thilo', 'Amer', 'Christine', 'Kiran']\n"
     ]
    }
   ],
   "source": [
    "# Hart aber zufällig\n",
    "\n",
    "ds_classroom.seating()"
   ]
  },
  {
   "cell_type": "code",
   "execution_count": 9,
   "metadata": {},
   "outputs": [
    {
     "name": "stdout",
     "output_type": "stream",
     "text": [
      "['Thilo', 'Martin', 'Christine', 'Tim', 'Alex', 'Eva', 'Rafael', 'Tina', 'Marc', 'Larissa', 'Miguel', 'Torben', 'MartinH', 'Christian', 'Felix', 'Amer', 'Kiran']\n"
     ]
    }
   ],
   "source": [
    "# Genauso zufällig\n",
    "\n",
    "ds_classroom.seating()"
   ]
  },
  {
   "cell_type": "markdown",
   "metadata": {},
   "source": [
    "----"
   ]
  },
  {
   "cell_type": "markdown",
   "metadata": {},
   "source": [
    "### Wer arbeitet mit wem?"
   ]
  },
  {
   "cell_type": "code",
   "execution_count": 10,
   "metadata": {
    "scrolled": true
   },
   "outputs": [
    {
     "data": {
      "text/plain": [
       "[['Eva', 'Kiran', 'Rafael', 'Christian'],\n",
       " ['Miguel', 'Marc', 'Thilo', 'Torben'],\n",
       " ['MartinH', 'Tina', 'Christine'],\n",
       " ['Martin', 'Tim', 'Amer'],\n",
       " ['Felix', 'Larissa', 'Alex']]"
      ]
     },
     "execution_count": 10,
     "metadata": {},
     "output_type": "execute_result"
    }
   ],
   "source": [
    "ds_classroom.groups(5)"
   ]
  },
  {
   "cell_type": "markdown",
   "metadata": {},
   "source": [
    "---"
   ]
  },
  {
   "cell_type": "markdown",
   "metadata": {},
   "source": [
    "### Was kann man besser machen?"
   ]
  },
  {
   "cell_type": "markdown",
   "metadata": {},
   "source": [
    "Ideen:\n",
    "- Erweitern der Funktionen, so dass mehrere Teilnehmer auf einmal hinzugefügt werden können (aus einer Liste)\n",
    "- Beim setzen der Anwesenheit überprüfen, ob der Teilnehmer existiert\n",
    "- Implementierung der Gruppeneinteilung nach Gruppengröße (und nicht wie hier Anzahl der Gruppen)\n",
    "- Tests! Funktioniert das wirklich?!\n",
    "- ...\n",
    "\n",
    "Ausblick nächste Woche:\n",
    "- Einlesen einer csv-Datei (csv = comma separated values) mit den Namen und der Anwesenheit und einfügen mit der neuen Funktion oben\n",
    "- ..."
   ]
  },
  {
   "cell_type": "code",
   "execution_count": 11,
   "metadata": {},
   "outputs": [
    {
     "data": {
      "text/plain": [
       "'Torben'"
      ]
     },
     "execution_count": 11,
     "metadata": {},
     "output_type": "execute_result"
    }
   ],
   "source": [
    "ds_classroom.pick_random()"
   ]
  },
  {
   "cell_type": "code",
   "execution_count": null,
   "metadata": {},
   "outputs": [],
   "source": []
  }
 ],
 "metadata": {
  "kernelspec": {
   "display_name": "Python 3",
   "language": "python",
   "name": "python3"
  },
  "language_info": {
   "codemirror_mode": {
    "name": "ipython",
    "version": 3
   },
   "file_extension": ".py",
   "mimetype": "text/x-python",
   "name": "python",
   "nbconvert_exporter": "python",
   "pygments_lexer": "ipython3",
   "version": "3.6.5"
  }
 },
 "nbformat": 4,
 "nbformat_minor": 2
}
