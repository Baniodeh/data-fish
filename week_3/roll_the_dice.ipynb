{
 "cells": [
  {
   "cell_type": "code",
   "execution_count": 1,
   "metadata": {},
   "outputs": [],
   "source": [
    "import pandas as pd"
   ]
  },
  {
   "cell_type": "markdown",
   "metadata": {},
   "source": [
    "# Würfelexperiment"
   ]
  },
  {
   "cell_type": "markdown",
   "metadata": {},
   "source": [
    "Aus der Stochastik wissen wir, dass der *Erwartungswert* für das Ergebnis des Würfelns mit einem 6-seitigen Würfels"
   ]
  },
  {
   "cell_type": "code",
   "execution_count": 2,
   "metadata": {},
   "outputs": [
    {
     "name": "stdout",
     "output_type": "stream",
     "text": [
      "3.5\n"
     ]
    }
   ],
   "source": [
    "expected_value_dice = 1 * 1/6.0 + 2 * 1/6.0 + 3 * 1/6.0 + 4 * 1/6.0 + 5 * 1/6.0 + 6 * 1/6.0\n",
    "print(expected_value_dice)"
   ]
  },
  {
   "cell_type": "markdown",
   "metadata": {},
   "source": [
    "ist. Das heißt das mathematische Model sagt uns, wenn wir ein Würfelexperiment lange genug durchführen müsste im Mittel die Zahl 3.5 als Ergebnis rauskommen.\n",
    "\n",
    "**In der Praxis fangen wir normalerweise nicht mit dem mathematischen Modell an, sondern mit irgendwelchen Daten!**\n",
    "\n",
    "Wenn wir die Daten analysieren schauen wir uns evtl. den **empirischen Erwartungswert** an. Der empirische Erwartungswert soll uns als Schätzer für den mathematischen Erwartungswert dienen."
   ]
  },
  {
   "cell_type": "markdown",
   "metadata": {},
   "source": [
    "---"
   ]
  },
  {
   "cell_type": "markdown",
   "metadata": {},
   "source": [
    "Für diese Experiment generieren wir uns mittels des *random* moduls von numpy die Ergebnisse aus dem Experiment"
   ]
  },
  {
   "cell_type": "code",
   "execution_count": 3,
   "metadata": {},
   "outputs": [],
   "source": [
    "import numpy as np\n",
    "import scipy, scipy.stats\n",
    "import matplotlib.pyplot as plt"
   ]
  },
  {
   "cell_type": "code",
   "execution_count": 4,
   "metadata": {},
   "outputs": [],
   "source": [
    "n = 10\n",
    "spiele_ergebnis = np.random.randint(1,7,n) # Zahlen 1-6 (Die obere Grenze ist nicht eingeschlossen!!)"
   ]
  },
  {
   "cell_type": "markdown",
   "metadata": {},
   "source": [
    "Wir berechnen den empirischen Mittelwert:"
   ]
  },
  {
   "cell_type": "code",
   "execution_count": 5,
   "metadata": {},
   "outputs": [],
   "source": [
    "empirischer_erwartungswert = spiele_ergebnis.sum()/float(n)"
   ]
  },
  {
   "cell_type": "markdown",
   "metadata": {},
   "source": [
    "**Aufgabe: Ergänze den Code um die Berechnung der empirischen Varianz **"
   ]
  },
  {
   "cell_type": "markdown",
   "metadata": {},
   "source": [
    "Nun berechnen wir den Fehler zwischen dem rechnerischen und dem empirischen Erwartungswert:"
   ]
  },
  {
   "cell_type": "code",
   "execution_count": 6,
   "metadata": {},
   "outputs": [
    {
     "name": "stdout",
     "output_type": "stream",
     "text": [
      "Rechnerischer Erwartungswert:  3.5\n",
      "Emiprischer Erwartungswert:  3.4\n",
      "Fehler:  0.10000000000000009\n"
     ]
    }
   ],
   "source": [
    "print (\"Rechnerischer Erwartungswert: \", 3.5)\n",
    "print (\"Emiprischer Erwartungswert: \", empirischer_erwartungswert)\n",
    "print (\"Fehler: \", np.abs(empirischer_erwartungswert - 3.5))"
   ]
  },
  {
   "cell_type": "markdown",
   "metadata": {},
   "source": [
    "**Wie wir wissen ist der rechnerische Erwartungswert der zugrunde liegenden diskreten Gleichverteilung ist 3.5. Wird der Schätzer genauer, wenn ich mehr Ziehungen habe?**"
   ]
  },
  {
   "cell_type": "markdown",
   "metadata": {},
   "source": [
    "Da sowohl die Summe der Ergebnisse und die Zahl n ganzzahlig ist wird Ergebnis automatisch auf eine ganze Zahl gerundet. Mit `float(n)` n zu einer Fließkommazahl, so dass das Ergebnis als Fließkommazahl ausgegeben wird."
   ]
  },
  {
   "cell_type": "markdown",
   "metadata": {},
   "source": [
    "---"
   ]
  },
  {
   "cell_type": "markdown",
   "metadata": {},
   "source": [
    "### Viele Stichproben und der Erwartungswert"
   ]
  },
  {
   "cell_type": "markdown",
   "metadata": {},
   "source": [
    "Bei kleinem n (z. B. n=10) ist das Ergebnis nicht sonderlich stabil, d. h. bei wiederholten Ausführung des Würfelexperiments (mit gleicher Anzahl n) variert das Ergebnis stark. Mit größerem n ist dies nicht mehr so deutlich, deshalb sagt man, dass das Ergebnis stabiler ist. "
   ]
  },
  {
   "cell_type": "code",
   "execution_count": 7,
   "metadata": {},
   "outputs": [
    {
     "data": {
      "text/html": [
       "<div>\n",
       "<style scoped>\n",
       "    .dataframe tbody tr th:only-of-type {\n",
       "        vertical-align: middle;\n",
       "    }\n",
       "\n",
       "    .dataframe tbody tr th {\n",
       "        vertical-align: top;\n",
       "    }\n",
       "\n",
       "    .dataframe thead th {\n",
       "        text-align: right;\n",
       "    }\n",
       "</style>\n",
       "<table border=\"1\" class=\"dataframe\">\n",
       "  <thead>\n",
       "    <tr style=\"text-align: right;\">\n",
       "      <th></th>\n",
       "      <th>0</th>\n",
       "      <th>1</th>\n",
       "      <th>2</th>\n",
       "      <th>3</th>\n",
       "      <th>4</th>\n",
       "      <th>5</th>\n",
       "      <th>6</th>\n",
       "      <th>7</th>\n",
       "      <th>8</th>\n",
       "      <th>9</th>\n",
       "    </tr>\n",
       "  </thead>\n",
       "  <tbody>\n",
       "    <tr>\n",
       "      <th>0</th>\n",
       "      <td>1</td>\n",
       "      <td>3</td>\n",
       "      <td>4</td>\n",
       "      <td>3</td>\n",
       "      <td>1</td>\n",
       "      <td>5</td>\n",
       "      <td>4</td>\n",
       "      <td>1</td>\n",
       "      <td>2</td>\n",
       "      <td>5</td>\n",
       "    </tr>\n",
       "  </tbody>\n",
       "</table>\n",
       "</div>"
      ],
      "text/plain": [
       "   0  1  2  3  4  5  6  7  8  9\n",
       "0  1  3  4  3  1  5  4  1  2  5"
      ]
     },
     "execution_count": 7,
     "metadata": {},
     "output_type": "execute_result"
    }
   ],
   "source": [
    "n = 10\n",
    "spiele_ergebnis = np.random.randint(1,7,n) # Zahlen 1-6 (Die obere Grenze ist nicht eingeschlossen!!)\n",
    "ergebnisse = pd.DataFrame(spiele_ergebnis).T\n",
    "ergebnisse"
   ]
  },
  {
   "cell_type": "code",
   "execution_count": 11,
   "metadata": {},
   "outputs": [],
   "source": [
    "# Wir spielen das gleiche Spiel mehrfach\n",
    "for i in range(0,20000):\n",
    "    ergebnisse = ergebnisse.append(pd.DataFrame(np.random.randint(1,7,n)).T)"
   ]
  },
  {
   "cell_type": "code",
   "execution_count": 12,
   "metadata": {},
   "outputs": [],
   "source": [
    "erwartungswerte = ergebnisse.mean(axis=1)"
   ]
  },
  {
   "cell_type": "code",
   "execution_count": 13,
   "metadata": {},
   "outputs": [
    {
     "data": {
      "image/png": "[encoded data removed]",
      "text/plain": [
       "<Figure size 1440x576 with 1 Axes>"
      ]
     },
     "metadata": {},
     "output_type": "display_data"
    }
   ],
   "source": [
    "plt.figure(1, figsize=(20, 8))\n",
    "plt.hist(erwartungswerte, 150,density=True);"
   ]
  },
  {
   "cell_type": "code",
   "execution_count": null,
   "metadata": {},
   "outputs": [],
   "source": []
  }
 ],
 "metadata": {
  "kernelspec": {
   "display_name": "Python 3",
   "language": "python",
   "name": "python3"
  },
  "language_info": {
   "codemirror_mode": {
    "name": "ipython",
    "version": 3
   },
   "file_extension": ".py",
   "mimetype": "text/x-python",
   "name": "python",
   "nbconvert_exporter": "python",
   "pygments_lexer": "ipython3",
   "version": "3.6.5"
  }
 },
 "nbformat": 4,
 "nbformat_minor": 2
}
