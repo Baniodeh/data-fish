{
 "cells": [
  {
   "cell_type": "code",
   "execution_count": 1,
   "metadata": {},
   "outputs": [],
   "source": [
    "import numpy as np\n",
    "import pandas as pd\n",
    "import math\n",
    "\n",
    "from sklearn.preprocessing import StandardScaler\n",
    "from sklearn.mixture import GaussianMixture\n",
    "\n",
    "import scipy, scipy.stats\n",
    "\n",
    "import matplotlib.pyplot as plt\n",
    "from mpl_toolkits.mplot3d import Axes3D\n",
    "\n",
    "# für interactive Plots in jupyter notebooks\n",
    "# %matplotlib notebook"
   ]
  },
  {
   "cell_type": "markdown",
   "metadata": {},
   "source": [
    "# Clustering der Bank Daten mittels dem RFM Modell"
   ]
  },
  {
   "cell_type": "markdown",
   "metadata": {},
   "source": [
    "Einlesen der Bankdaten und da wir die Attribute 'gender', 'merchant', 'category','age' in diesem Beispiel nicht brauchen verwerfen wir sie direkt"
   ]
  },
  {
   "cell_type": "code",
   "execution_count": 2,
   "metadata": {},
   "outputs": [],
   "source": [
    "file_name = '~/neuefische/data-fish/data/bank_transactions.csv'\n",
    "data = pd.read_csv(file_name) "
   ]
  },
  {
   "cell_type": "code",
   "execution_count": 3,
   "metadata": {},
   "outputs": [],
   "source": [
    "data.drop(['gender', 'merchant', 'category','age'], axis=1, inplace=True)"
   ]
  },
  {
   "cell_type": "code",
   "execution_count": 4,
   "metadata": {},
   "outputs": [
    {
     "data": {
      "text/html": [
       "<div>\n",
       "<style scoped>\n",
       "    .dataframe tbody tr th:only-of-type {\n",
       "        vertical-align: middle;\n",
       "    }\n",
       "\n",
       "    .dataframe tbody tr th {\n",
       "        vertical-align: top;\n",
       "    }\n",
       "\n",
       "    .dataframe thead th {\n",
       "        text-align: right;\n",
       "    }\n",
       "</style>\n",
       "<table border=\"1\" class=\"dataframe\">\n",
       "  <thead>\n",
       "    <tr style=\"text-align: right;\">\n",
       "      <th></th>\n",
       "      <th>step</th>\n",
       "      <th>customer</th>\n",
       "      <th>amount</th>\n",
       "      <th>fraud</th>\n",
       "    </tr>\n",
       "  </thead>\n",
       "  <tbody>\n",
       "    <tr>\n",
       "      <th>0</th>\n",
       "      <td>0</td>\n",
       "      <td>C1093826151</td>\n",
       "      <td>4.55</td>\n",
       "      <td>0</td>\n",
       "    </tr>\n",
       "    <tr>\n",
       "      <th>1</th>\n",
       "      <td>0</td>\n",
       "      <td>C352968107</td>\n",
       "      <td>39.68</td>\n",
       "      <td>0</td>\n",
       "    </tr>\n",
       "    <tr>\n",
       "      <th>2</th>\n",
       "      <td>0</td>\n",
       "      <td>C2054744914</td>\n",
       "      <td>26.89</td>\n",
       "      <td>0</td>\n",
       "    </tr>\n",
       "    <tr>\n",
       "      <th>3</th>\n",
       "      <td>0</td>\n",
       "      <td>C1760612790</td>\n",
       "      <td>17.25</td>\n",
       "      <td>0</td>\n",
       "    </tr>\n",
       "    <tr>\n",
       "      <th>4</th>\n",
       "      <td>0</td>\n",
       "      <td>C757503768</td>\n",
       "      <td>35.72</td>\n",
       "      <td>0</td>\n",
       "    </tr>\n",
       "  </tbody>\n",
       "</table>\n",
       "</div>"
      ],
      "text/plain": [
       "   step     customer  amount  fraud\n",
       "0     0  C1093826151    4.55      0\n",
       "1     0   C352968107   39.68      0\n",
       "2     0  C2054744914   26.89      0\n",
       "3     0  C1760612790   17.25      0\n",
       "4     0   C757503768   35.72      0"
      ]
     },
     "execution_count": 4,
     "metadata": {},
     "output_type": "execute_result"
    }
   ],
   "source": [
    "data.head()"
   ]
  },
  {
   "cell_type": "code",
   "execution_count": 5,
   "metadata": {},
   "outputs": [],
   "source": [
    "mean_values = data.groupby('customer').mean().drop(['step'], axis=1)\n",
    "fraud_values = data.groupby('customer').sum().drop(['step','amount'], axis=1).rename(index=str, columns={\"fraud\": \"fraud_absolute\"})\n",
    "max_values = data.groupby('customer').max().drop(['amount', 'fraud'], axis=1).rename(index=str, columns={\"step\": \"recency\"})\n",
    "count_values = data.groupby('customer').count().drop(['amount', 'fraud'], axis=1).rename(index=str, columns={\"step\": \"frequency\"})"
   ]
  },
  {
   "cell_type": "code",
   "execution_count": 6,
   "metadata": {},
   "outputs": [],
   "source": [
    "rfm_data = pd.concat([mean_values, max_values, count_values, fraud_values], axis=1, sort=False)\n",
    "rfm_data['recency'] = 179 - rfm_data['recency']"
   ]
  },
  {
   "cell_type": "markdown",
   "metadata": {},
   "source": [
    "---"
   ]
  },
  {
   "cell_type": "markdown",
   "metadata": {},
   "source": [
    "## Wie sehen die Daten aus?"
   ]
  },
  {
   "cell_type": "code",
   "execution_count": 7,
   "metadata": {},
   "outputs": [
    {
     "data": {
      "text/html": [
       "<div>\n",
       "<style scoped>\n",
       "    .dataframe tbody tr th:only-of-type {\n",
       "        vertical-align: middle;\n",
       "    }\n",
       "\n",
       "    .dataframe tbody tr th {\n",
       "        vertical-align: top;\n",
       "    }\n",
       "\n",
       "    .dataframe thead th {\n",
       "        text-align: right;\n",
       "    }\n",
       "</style>\n",
       "<table border=\"1\" class=\"dataframe\">\n",
       "  <thead>\n",
       "    <tr style=\"text-align: right;\">\n",
       "      <th></th>\n",
       "      <th>amount</th>\n",
       "      <th>fraud</th>\n",
       "      <th>recency</th>\n",
       "      <th>frequency</th>\n",
       "      <th>fraud_absolute</th>\n",
       "    </tr>\n",
       "  </thead>\n",
       "  <tbody>\n",
       "    <tr>\n",
       "      <th>count</th>\n",
       "      <td>4112.000000</td>\n",
       "      <td>4112.000000</td>\n",
       "      <td>4112.000000</td>\n",
       "      <td>4112.000000</td>\n",
       "      <td>4112.000000</td>\n",
       "    </tr>\n",
       "    <tr>\n",
       "      <th>mean</th>\n",
       "      <td>45.335268</td>\n",
       "      <td>0.023469</td>\n",
       "      <td>0.996352</td>\n",
       "      <td>144.611625</td>\n",
       "      <td>1.750973</td>\n",
       "    </tr>\n",
       "    <tr>\n",
       "      <th>std</th>\n",
       "      <td>48.922168</td>\n",
       "      <td>0.081532</td>\n",
       "      <td>5.032102</td>\n",
       "      <td>42.788212</td>\n",
       "      <td>7.053622</td>\n",
       "    </tr>\n",
       "    <tr>\n",
       "      <th>min</th>\n",
       "      <td>23.372024</td>\n",
       "      <td>0.000000</td>\n",
       "      <td>0.000000</td>\n",
       "      <td>5.000000</td>\n",
       "      <td>0.000000</td>\n",
       "    </tr>\n",
       "    <tr>\n",
       "      <th>25%</th>\n",
       "      <td>30.215169</td>\n",
       "      <td>0.000000</td>\n",
       "      <td>0.000000</td>\n",
       "      <td>130.000000</td>\n",
       "      <td>0.000000</td>\n",
       "    </tr>\n",
       "    <tr>\n",
       "      <th>50%</th>\n",
       "      <td>32.631427</td>\n",
       "      <td>0.000000</td>\n",
       "      <td>0.000000</td>\n",
       "      <td>165.000000</td>\n",
       "      <td>0.000000</td>\n",
       "    </tr>\n",
       "    <tr>\n",
       "      <th>75%</th>\n",
       "      <td>38.249849</td>\n",
       "      <td>0.012987</td>\n",
       "      <td>0.000000</td>\n",
       "      <td>173.000000</td>\n",
       "      <td>2.000000</td>\n",
       "    </tr>\n",
       "    <tr>\n",
       "      <th>max</th>\n",
       "      <td>838.158333</td>\n",
       "      <td>0.945652</td>\n",
       "      <td>105.000000</td>\n",
       "      <td>265.000000</td>\n",
       "      <td>144.000000</td>\n",
       "    </tr>\n",
       "  </tbody>\n",
       "</table>\n",
       "</div>"
      ],
      "text/plain": [
       "            amount        fraud      recency    frequency  fraud_absolute\n",
       "count  4112.000000  4112.000000  4112.000000  4112.000000     4112.000000\n",
       "mean     45.335268     0.023469     0.996352   144.611625        1.750973\n",
       "std      48.922168     0.081532     5.032102    42.788212        7.053622\n",
       "min      23.372024     0.000000     0.000000     5.000000        0.000000\n",
       "25%      30.215169     0.000000     0.000000   130.000000        0.000000\n",
       "50%      32.631427     0.000000     0.000000   165.000000        0.000000\n",
       "75%      38.249849     0.012987     0.000000   173.000000        2.000000\n",
       "max     838.158333     0.945652   105.000000   265.000000      144.000000"
      ]
     },
     "execution_count": 7,
     "metadata": {},
     "output_type": "execute_result"
    }
   ],
   "source": [
    "rfm_data.describe()"
   ]
  },
  {
   "cell_type": "markdown",
   "metadata": {},
   "source": [
    "**Wie sind die Daten verteilt?**"
   ]
  },
  {
   "cell_type": "code",
   "execution_count": 8,
   "metadata": {},
   "outputs": [
    {
     "data": {
      "image/png": "[encoded data removed]",
      "text/plain": [
       "<Figure size 1440x576 with 3 Axes>"
      ]
     },
     "metadata": {},
     "output_type": "display_data"
    }
   ],
   "source": [
    "plt.figure(1, figsize=(20, 8))\n",
    "\n",
    "plt.subplot(1,3, 1 )\n",
    "plt.hist(rfm_data['amount'], bins=100, density=True)\n",
    "\n",
    "plt.subplot(1,3, 2 )\n",
    "plt.hist(rfm_data['fraud'], bins=100, color='orange')\n",
    "\n",
    "plt.subplot(1,3, 3 )\n",
    "plt.hist(rfm_data['frequency'], bins=100, density=True,color='red')\n",
    "\n",
    "\n",
    "plt.show()"
   ]
  },
  {
   "cell_type": "code",
   "execution_count": 9,
   "metadata": {},
   "outputs": [],
   "source": [
    "mean = 144.611625\n",
    "std = 42.788212"
   ]
  },
  {
   "cell_type": "code",
   "execution_count": 10,
   "metadata": {},
   "outputs": [],
   "source": [
    "lower = scipy.stats.norm.ppf(0.001,mean,std)\n",
    "upper = scipy.stats.norm.ppf(0.999,mean,std)\n",
    "x = scipy.linspace(lower,upper,100)"
   ]
  },
  {
   "cell_type": "code",
   "execution_count": 11,
   "metadata": {},
   "outputs": [],
   "source": [
    "y = scipy.stats.norm.pdf(x,mean,std)"
   ]
  },
  {
   "cell_type": "code",
   "execution_count": 12,
   "metadata": {},
   "outputs": [
    {
     "data": {
      "image/png": "[encoded data removed]",
      "text/plain": [
       "<Figure size 1440x576 with 1 Axes>"
      ]
     },
     "metadata": {},
     "output_type": "display_data"
    }
   ],
   "source": [
    "plt.figure(1,figsize=(20, 8))\n",
    "plt.hist(rfm_data['frequency'], bins=100, density=True,color='red')\n",
    "plt.plot(x,y);"
   ]
  },
  {
   "cell_type": "code",
   "execution_count": 13,
   "metadata": {},
   "outputs": [],
   "source": [
    "gmm = GaussianMixture(2)"
   ]
  },
  {
   "cell_type": "code",
   "execution_count": 14,
   "metadata": {},
   "outputs": [
    {
     "data": {
      "text/plain": [
       "GaussianMixture(covariance_type='full', init_params='kmeans', max_iter=100,\n",
       "        means_init=None, n_components=2, n_init=1, precisions_init=None,\n",
       "        random_state=None, reg_covar=1e-06, tol=0.001, verbose=0,\n",
       "        verbose_interval=10, warm_start=False, weights_init=None)"
      ]
     },
     "execution_count": 14,
     "metadata": {},
     "output_type": "execute_result"
    }
   ],
   "source": [
    "gmm.fit(rfm_data[['frequency']])"
   ]
  },
  {
   "cell_type": "code",
   "execution_count": 15,
   "metadata": {},
   "outputs": [],
   "source": [
    "rfm_data['gmm_freq_cluster'] = gmm.predict(rfm_data[['frequency']])"
   ]
  },
  {
   "cell_type": "code",
   "execution_count": 16,
   "metadata": {},
   "outputs": [
    {
     "data": {
      "text/plain": [
       "array([[106.90047672],\n",
       "       [170.32083477]])"
      ]
     },
     "execution_count": 16,
     "metadata": {},
     "output_type": "execute_result"
    }
   ],
   "source": [
    "gmm.means_"
   ]
  },
  {
   "cell_type": "code",
   "execution_count": 17,
   "metadata": {},
   "outputs": [
    {
     "data": {
      "text/plain": [
       "array([[[2059.22504283]],\n",
       "\n",
       "       [[  43.88968701]]])"
      ]
     },
     "execution_count": 17,
     "metadata": {},
     "output_type": "execute_result"
    }
   ],
   "source": [
    "gmm.covariances_"
   ]
  },
  {
   "cell_type": "code",
   "execution_count": 18,
   "metadata": {},
   "outputs": [],
   "source": [
    "std_1 = math.sqrt(gmm.covariances_[0][0])\n",
    "mean_1 = gmm.means_[0][0]\n",
    "\n",
    "lower_1 = scipy.stats.norm.ppf(0.001,mean_1,std_1)\n",
    "upper_1 = scipy.stats.norm.ppf(0.999,mean_1,std_1)\n",
    "x_1 = scipy.linspace(lower_1,upper_1,100)\n",
    "y_1 = scipy.stats.norm.pdf(x_1,mean_1,std_1)"
   ]
  },
  {
   "cell_type": "code",
   "execution_count": 19,
   "metadata": {},
   "outputs": [],
   "source": [
    "std_2 = math.sqrt(gmm.covariances_[1])\n",
    "mean_2 = gmm.means_[1]\n",
    "lower_2 = scipy.stats.norm.ppf(0.001,mean_2,std_2)\n",
    "upper_2 = scipy.stats.norm.ppf(0.999,mean_2,std_2)\n",
    "x_2 = scipy.linspace(lower_2,upper_2,100)\n",
    "y_2 = scipy.stats.norm.pdf(x_2,mean_2,std_2)"
   ]
  },
  {
   "cell_type": "code",
   "execution_count": 21,
   "metadata": {},
   "outputs": [],
   "source": [
    "x_3 = scipy.linspace(lower_1,upper_2,100)\n",
    "y_3 = scipy.stats.norm.pdf(x_3,mean_1,std_1) + scipy.stats.norm.pdf(x_3,mean_2,std_2)"
   ]
  },
  {
   "cell_type": "code",
   "execution_count": 23,
   "metadata": {},
   "outputs": [
    {
     "data": {
      "image/png": "[encoded data removed]",
      "text/plain": [
       "<Figure size 1440x576 with 1 Axes>"
      ]
     },
     "metadata": {},
     "output_type": "display_data"
    }
   ],
   "source": [
    "color_map = ['red', 'yellow', 'green']\n",
    "plt.figure(1,figsize=(20, 8))\n",
    "plt.hist(rfm_data[rfm_data['gmm_freq_cluster'] == 0]['frequency'], bins=85, density=True, color='red')\n",
    "plt.hist(rfm_data[rfm_data['gmm_freq_cluster'] == 1]['frequency'], bins=15, density=True, color='yellow')\n",
    "plt.plot(x_1,y_1);\n",
    "plt.plot(x_2,y_2);\n",
    "plt.plot(x_3,y_3);\n",
    "# alternative die zwei Funktionen übernander zu legen\n",
    "#y_2_new = np.interp(x_1,x_2,y_2)\n",
    "#plt.plot(x_1,y_1+y_2_new);"
   ]
  },
  {
   "cell_type": "markdown",
   "metadata": {},
   "source": [
    "## Gaussian Mixture Models"
   ]
  },
  {
   "cell_type": "markdown",
   "metadata": {},
   "source": [
    "**Daten normalisieren**"
   ]
  },
  {
   "cell_type": "code",
   "execution_count": null,
   "metadata": {},
   "outputs": [],
   "source": [
    "rfm_data_scaled = StandardScaler().fit_transform(rfm_data[['recency', 'frequency', 'amount']])"
   ]
  },
  {
   "cell_type": "markdown",
   "metadata": {},
   "source": [
    "**Clustern**"
   ]
  },
  {
   "cell_type": "code",
   "execution_count": null,
   "metadata": {},
   "outputs": [],
   "source": [
    "gmm = GaussianMixture(5)"
   ]
  },
  {
   "cell_type": "code",
   "execution_count": null,
   "metadata": {},
   "outputs": [],
   "source": [
    "gmm.fit(rfm_data_scaled)"
   ]
  },
  {
   "cell_type": "code",
   "execution_count": null,
   "metadata": {},
   "outputs": [],
   "source": [
    "rfm_data['gmm_cluster'] = gmm.predict(rfm_data_scaled)"
   ]
  },
  {
   "cell_type": "code",
   "execution_count": null,
   "metadata": {},
   "outputs": [],
   "source": [
    "%matplotlib notebook\n",
    "fig = plt.figure().gca(projection='3d')\n",
    "fig.set_xlabel('recency')\n",
    "fig.set_ylabel('frequency')\n",
    "fig.set_zlabel('amount')\n",
    "fig.scatter(rfm_data['recency'], rfm_data['frequency'], rfm_data['amount'], c=rfm_data['gmm_cluster']);"
   ]
  },
  {
   "cell_type": "markdown",
   "metadata": {},
   "source": [
    "---"
   ]
  }
 ],
 "metadata": {
  "kernelspec": {
   "display_name": "Python 3",
   "language": "python",
   "name": "python3"
  },
  "language_info": {
   "codemirror_mode": {
    "name": "ipython",
    "version": 3
   },
   "file_extension": ".py",
   "mimetype": "text/x-python",
   "name": "python",
   "nbconvert_exporter": "python",
   "pygments_lexer": "ipython3",
   "version": "3.6.5"
  }
 },
 "nbformat": 4,
 "nbformat_minor": 2
}
